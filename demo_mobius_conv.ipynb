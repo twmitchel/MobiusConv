{
 "cells": [
  {
   "cell_type": "markdown",
   "metadata": {},
   "source": [
    "# Mobius Convolution Demo\n",
    "\n",
    "### This notebook provides a demonstration of the basic functionality of Mobius convolution modules from the paper ''Mobius Convolutions for Spherical CNNs''  (Mitchel et al. 2022)."
   ]
  },
  {
   "cell_type": "code",
   "execution_count": null,
   "metadata": {},
   "outputs": [],
   "source": [
    "# Imports\n",
    "import torch\n",
    "import os\n",
    "\n",
    "# Empty torch cache\n",
    "torch.cuda.empty_cache()"
   ]
  },
  {
   "cell_type": "markdown",
   "metadata": {},
   "source": [
    "## Hyperparameters"
   ]
  },
  {
   "cell_type": "code",
   "execution_count": null,
   "metadata": {},
   "outputs": [],
   "source": [
    "#####################################\n",
    "####### Device, checkpointing #######\n",
    "#####################################\n",
    "\n",
    "device = torch.device('cuda')\n",
    "\n",
    "# Checkpointing\n",
    "checkpoint = True;"
   ]
  },
  {
   "cell_type": "code",
   "execution_count": null,
   "metadata": {},
   "outputs": [],
   "source": [
    "#####################################\n",
    "### Resolution, dimensionality ######\n",
    "#####################################\n",
    "\n",
    "## Band-limit of the spherical grid, resulting in a 2*B x 2*B spherical image\n",
    "## See TS2Kit documentation for more information\n",
    "B = 64; \n",
    "\n",
    "# Number of channels\n",
    "C = 16;\n",
    "\n",
    "# Batch size\n",
    "batch_size = 1;\n"
   ]
  },
  {
   "cell_type": "code",
   "execution_count": null,
   "metadata": {},
   "outputs": [],
   "source": [
    "###################################\n",
    "############# Filters #############\n",
    "###################################\n",
    "\n",
    "## The following two parameters control the number of learnable parameters per-filter\n",
    "## Larger values mean higher-resolution filters, but more memory overhead\n",
    "## We used the following values for the experiments in the paper\n",
    "\n",
    "## Radial band-limit of learnable log-polar filters\n",
    "D1 = 1;\n",
    "\n",
    "## Angular band-limit of learnable log-polar filters\n",
    "D2 = 1;\n",
    "\n",
    "## The following two parameters control the quality of the discretized representation\n",
    "## Larger values mean better accuracy, but more memory overhead\n",
    "## The following values were used in the experiments in the paper\n",
    "\n",
    "## Angular band-limit of representation\n",
    "M = D2 + 1;\n",
    "\n",
    "## Number of radial quadrature samples in representation\n",
    "Q = 30;"
   ]
  },
  {
   "cell_type": "markdown",
   "metadata": {},
   "source": [
    "## Cache"
   ]
  },
  {
   "cell_type": "code",
   "execution_count": null,
   "metadata": {},
   "outputs": [],
   "source": [
    "## Several tensors are pre-computed at initialization and at higher bandlimits\n",
    "## this can take some time. To avoid re-computing these quantities every initialization,\n",
    "## the modules will check if the tensors have been saved in the cache/files directory and either \n",
    "## A). load the tensors directly from the cache; or B). compute the tensors and save them \n",
    "## to the cache directory so they can be loaded next time the modules are initialized. \n",
    "\n",
    "## The cache directory can be cleared of .pt files at anytime via the following:\n",
    "\n",
    "\n",
    "from cache.cache import clearCache\n",
    "\n",
    "#clearCache();\n"
   ]
  },
  {
   "cell_type": "markdown",
   "metadata": {},
   "source": [
    "## Mobius Convolution modules"
   ]
  },
  {
   "cell_type": "code",
   "execution_count": null,
   "metadata": {},
   "outputs": [],
   "source": [
    "from nn import MCResNetBlock, MobiusConv\n",
    "from utils.rs_diff import rsDirichlet\n",
    "\n",
    "## The principal module is the Mobius convolution ResNet block, two Mobius convolutions, each followed\n",
    "## by a Dirichlet-energy Filter Response normalization + nonlinearity, with a residual connection between\n",
    "## the input and output streams\n",
    "\n",
    "## On the first initalization (or after clearing the cache), various quantities will be precomputed and\n",
    "## saved in the cache directory to be loaded on subsequent initalizations\n",
    "\n",
    "## Example: Initialize a MCResNet Block (Reccomended for general use)\n",
    "#MCRN = MCResNetBlock(C, C, B, D1, D2, M, Q, checkpoint=checkpoint)\n",
    "\n",
    "## Here we'll use a simple MobiusConv with the output normalized by the Dirichlet energy (without the thresholded\n",
    "## nonlinearity to better demonstrate equivariance)\n",
    "\n",
    "class MCLayer(torch.nn.Module):\n",
    "\n",
    "    def __init__(self):\n",
    "        super().__init__()\n",
    "    \n",
    "        self.conv = MobiusConv(C, C, B, D1, D2, M, Q);\n",
    "        \n",
    "        self.E = rsDirichlet(B);\n",
    "        \n",
    "        \n",
    "    def forward(self, x):\n",
    "        \n",
    "        xC = self.conv(x)\n",
    "        \n",
    "        return xC /  torch.sqrt(self.E(xC)[..., None, None] + 1.0e-6)\n"
   ]
  },
  {
   "cell_type": "markdown",
   "metadata": {},
   "source": [
    "## Equivariance demo"
   ]
  },
  {
   "cell_type": "code",
   "execution_count": null,
   "metadata": {},
   "outputs": [],
   "source": [
    "## We'll compare Mobius Convolution against a standard 2D convolution layer, with output normalized \n",
    "## by the Dirichlet energy\n",
    "class Conv2dLayer(torch.nn.Module):\n",
    "\n",
    "    def __init__(self, k=7):\n",
    "        super().__init__()\n",
    "    \n",
    "        p = (k - 1) // 2;\n",
    "        \n",
    "        self.conv = torch.nn.Conv2d(C, C, kernel_size=k, padding=p, bias=False)\n",
    "\n",
    "        self.E = rsDirichlet(B);\n",
    "        \n",
    "    def forward(self, x):\n",
    "                        \n",
    "        xC = self.conv(x);\n",
    "        \n",
    "        return xC /  torch.sqrt(self.E(xC)[..., None, None] + 1.0e-6)\n"
   ]
  },
  {
   "cell_type": "code",
   "execution_count": null,
   "metadata": {},
   "outputs": [],
   "source": [
    "## We can compare the equivariance error between Mobius convolutions and a standard Conv2d module\n",
    "## by measuring how much each modules commutes with a Mobius transformation\n",
    "\n",
    "from utils.demo import randSignal, bilinearInterpolant, randMobius\n",
    "from utils.rs_diff import rsNorm2\n",
    "from TS2Kit.ts2kit import FTSHT\n",
    "\n",
    "randM = randMobius(B)\n",
    "\n",
    "norm2 = rsNorm2(B);\n",
    "SHT = FTSHT(B);\n"
   ]
  },
  {
   "cell_type": "code",
   "execution_count": null,
   "metadata": {},
   "outputs": [],
   "source": [
    "## Regular 2D convolution module\n",
    "RN = Conv2dLayer().to(device)\n",
    "RN.eval()\n",
    "\n",
    "## Mobius Conv module\n",
    "MC = MCLayer().float().to(device)\n",
    "MC.eval()\n",
    "\n",
    "\n",
    "## Draw random mobius transformation\n",
    "thetaM, phiM = randM(0.3) # Maximum scale factor ~ 12\n",
    "interp = bilinearInterpolant(thetaM, phiM)\n",
    "\n",
    "## Draw random signal\n",
    "x = randSignal(batch_size, B, C).real;\n",
    "\n",
    "## Transform it\n",
    "gx = interp(x)\n",
    "\n",
    "\n",
    "## Compare Conv2d outputs\n",
    "Cx = RN(x.to(device)).to('cpu');\n",
    "\n",
    "diffC2d = interp(Cx) - RN(gx.to(device)).to('cpu')\n",
    "\n",
    "EVC2d = torch.sum(norm2(diffC2d.squeeze()).squeeze(), dim=0) / C;\n",
    "\n",
    "muC2d = torch.sum(SHT(Cx.squeeze(0))[:, (B-1), 0].real, dim=0).item() / C;\n",
    "\n",
    "VarC2d= torch.sum(norm2(Cx.squeeze(0) - muC2d), dim=0) / C;\n",
    "\n",
    "errorC2d = EVC2d / VarC2d;\n",
    "\n",
    "\n",
    "## Compare MC outputs\n",
    "MCx = MC(x.to(device)).to('cpu')\n",
    "diffMC =  interp(MCx) - MC(gx.to(device)).to('cpu') \n",
    "\n",
    "EVMC = torch.sum(norm2(diffMC.squeeze()), dim=0) / C\n",
    "\n",
    "muMC = torch.sum(SHT(MCx.squeeze(0))[:, (B-1), 0].real, dim=0).item() / C;\n",
    "\n",
    "VarMC = torch.sum(norm2(MCx.squeeze(0) - muMC), dim=0) / C;\n",
    "\n",
    "errorMC = EVMC / VarMC;\n",
    "\n",
    "del RN, MC\n",
    "\n",
    "print(\"Conv2d layer commutativity error = {}\".format(errorC2d), flush=True)\n",
    "print(\"Mobius Convolution layer commutativity error = {}.\".format(errorMC), flush=True)"
   ]
  }
 ],
 "metadata": {
  "kernelspec": {
   "display_name": "Python 3",
   "language": "python",
   "name": "python3"
  },
  "language_info": {
   "codemirror_mode": {
    "name": "ipython",
    "version": 3
   },
   "file_extension": ".py",
   "mimetype": "text/x-python",
   "name": "python",
   "nbconvert_exporter": "python",
   "pygments_lexer": "ipython3",
   "version": "3.6.9"
  }
 },
 "nbformat": 4,
 "nbformat_minor": 4
}
